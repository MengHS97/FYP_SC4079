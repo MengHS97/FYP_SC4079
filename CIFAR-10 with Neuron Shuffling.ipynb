{
 "cells": [
  {
   "cell_type": "markdown",
   "metadata": {
    "id": "oVh6stZmm4FI"
   },
   "source": [
    "## CIFAR-10 with Neuron Shuffling Defense Mechanism"
   ]
  },
  {
   "cell_type": "markdown",
   "metadata": {
    "id": "VFC26E3Zsh1L"
   },
   "source": [
    "In this notebook, we perform FGSM (targeted and non-targeted) and PGD attacks on the CIFAR-10 dataset using the Resnet18 model and build models to defend against these attacks using the Adversarial Training mechanism."
   ]
  },
  {
   "cell_type": "code",
   "execution_count": 1,
   "metadata": {
    "id": "ldHmoyhvUvhX"
   },
   "outputs": [],
   "source": [
    "import torch\n",
    "import torch.nn as nn\n",
    "import torch.optim as optim\n",
    "import torch.nn.functional as F\n",
    "import torch.backends.cudnn as cudnn\n",
    "from torch.autograd import *\n",
    "\n",
    "import torchvision\n",
    "import torchvision.transforms as transforms\n",
    "\n",
    "import os\n",
    "import argparse\n",
    "import matplotlib.pyplot as plt\n",
    "import numpy as np\n",
    "import random\n",
    "import itertools\n",
    "\n",
    "from resnet import *\n",
    "\n",
    "import pickle\n",
    "from collections import OrderedDict"
   ]
  },
  {
   "cell_type": "code",
   "execution_count": 2,
   "metadata": {
    "id": "ldHmoyhvUvhX"
   },
   "outputs": [],
   "source": [
    "device = 'cuda' if torch.cuda.is_available() else 'cpu'\n",
    "lr = 0.01"
   ]
  },
  {
   "cell_type": "markdown",
   "metadata": {
    "id": "q6rG9cl3RbfJ"
   },
   "source": [
    "<a name='name'></a>\n",
    "### Preparing train and test data and building Resnet model"
   ]
  },
  {
   "cell_type": "code",
   "execution_count": 3,
   "metadata": {
    "colab": {
     "base_uri": "https://localhost:8080/"
    },
    "id": "pBNfOkMr92S3",
    "outputId": "945440d6-fc1f-4d88-bd2e-ba3e829d3968"
   },
   "outputs": [
    {
     "name": "stdout",
     "output_type": "stream",
     "text": [
      "Files already downloaded and verified\n",
      "Files already downloaded and verified\n",
      "==> Building model..\n"
     ]
    }
   ],
   "source": [
    "transform_train = transforms.Compose([\n",
    "    transforms.RandomCrop(32, padding=4),\n",
    "    transforms.RandomHorizontalFlip(),\n",
    "    transforms.ToTensor(),\n",
    "    transforms.Normalize((0.4914, 0.4822, 0.4465), (0.2023, 0.1994, 0.2010)),\n",
    "])\n",
    "\n",
    "transform_test = transforms.Compose([\n",
    "    transforms.ToTensor(),\n",
    "    transforms.Normalize((0.4914, 0.4822, 0.4465), (0.2023, 0.1994, 0.2010)),\n",
    "])\n",
    "\n",
    "trainset = torchvision.datasets.CIFAR10(\n",
    "    root='./data', train=True, download=True, transform=transform_train)\n",
    "trainloader = torch.utils.data.DataLoader(\n",
    "    trainset, batch_size=30, shuffle=True, num_workers=2)\n",
    "\n",
    "testset = torchvision.datasets.CIFAR10(\n",
    "    root='./data', train=False, download=True, transform=transform_test)\n",
    "testloader = torch.utils.data.DataLoader(\n",
    "    testset, batch_size=20, shuffle=False, num_workers=2)\n",
    "\n",
    "classes = ('plane', 'car', 'bird', 'cat', 'deer',\n",
    "           'dog', 'frog', 'horse', 'ship', 'truck')\n",
    "\n",
    "# Model\n",
    "print('==> Building model..')\n",
    "net = ResNet18()\n",
    "net = net.to(device)\n",
    "if device == 'cuda':\n",
    "    net = torch.nn.DataParallel(net)\n",
    "    cudnn.benchmark = True\n",
    "\n",
    "criterion = nn.CrossEntropyLoss()\n",
    "optimizer = optim.SGD(net.parameters(), lr=lr,\n",
    "                      momentum=0.9, weight_decay=5e-4)\n",
    "scheduler = torch.optim.lr_scheduler.CosineAnnealingLR(optimizer, T_max=200)"
   ]
  },
  {
   "cell_type": "code",
   "execution_count": 4,
   "metadata": {
    "id": "OOLoVjk087ek"
   },
   "outputs": [],
   "source": [
    "def train(epoch, net):\n",
    "    \n",
    "    '''\n",
    "    this function train net on training dataset\n",
    "    '''\n",
    "\n",
    "    net.train()\n",
    "    train_loss = 0\n",
    "    correct = 0\n",
    "    total = 0\n",
    "    for batch_idx, (inputs, targets) in enumerate(trainloader):\n",
    "        inputs, targets = inputs.to(device), targets.to(device)\n",
    "        optimizer.zero_grad()\n",
    "        outputs = net(inputs)\n",
    "        loss = criterion(outputs, targets)\n",
    "        loss.backward()\n",
    "        optimizer.step()\n",
    "\n",
    "        train_loss += loss.item()\n",
    "        _, predicted = outputs.max(1)\n",
    "        total += targets.size(0)\n",
    "        correct += predicted.eq(targets).sum().item()\n",
    "        print(batch_idx)\n",
    "    return train_loss/len(trainloader)\n",
    "\n",
    "# Save the model\n",
    "torch.save(net.state_dict(), 'resnet_model2.pth')"
   ]
  },
  {
   "cell_type": "code",
   "execution_count": 5,
   "metadata": {},
   "outputs": [],
   "source": [
    "def test(epoch, net):\n",
    "\n",
    "    '''\n",
    "    This function evaluate net on test dataset\n",
    "    '''\n",
    "\n",
    "    global acc\n",
    "    net.eval()\n",
    "    test_loss = 0\n",
    "    correct = 0\n",
    "    total = 0\n",
    "    test_accuracies = 0\n",
    "    with torch.no_grad():\n",
    "        for batch_idx, (inputs, targets) in enumerate(testloader):\n",
    "            inputs, targets = inputs.to(device), targets.to(device)\n",
    "            outputs = net(inputs)\n",
    "            loss = criterion(outputs, targets)\n",
    "\n",
    "            test_loss += loss.item()\n",
    "            _, predicted = outputs.max(1)\n",
    "            total += targets.size(0)\n",
    "            correct += predicted.eq(targets).sum().item()\n",
    "    acc = 100 * correct / total\n",
    "    return test_loss/len(testloader)"
   ]
  },
  {
   "cell_type": "code",
   "execution_count": null,
   "metadata": {},
   "outputs": [],
   "source": [
    "train_losses=[]\n",
    "test_losses=[]\n",
    "epochs=3\n",
    "\n",
    "for epoch in range(0,epochs):\n",
    "    train_losses.append(train(epoch, net))\n",
    "    test_losses.append(test(epoch, net))\n",
    "    scheduler.step()"
   ]
  },
  {
   "cell_type": "markdown",
   "metadata": {},
   "source": [
    "## Defense Mechanism - Neuron Shuffling (with weight order)"
   ]
  },
  {
   "cell_type": "code",
   "execution_count": null,
   "metadata": {
    "scrolled": true
   },
   "outputs": [],
   "source": [
    "# Function to shuffle layers and save models\n",
    "def shuffle_and_save_layers(original_model_state_dict_path, shuffled_model_path1, shuffled_model_path2):\n",
    "    # Load the state dictionary of the original model\n",
    "    original_model_state_dict = torch.load(original_model_state_dict_path)\n",
    "    \n",
    "    # Assuming 'net' is defined somewhere in your code\n",
    "    # Load the state dictionary into the model\n",
    "    net.load_state_dict(original_model_state_dict)\n",
    "\n",
    "    # Extract the layers from the model\n",
    "    original_layers = list(net.children())\n",
    "\n",
    "    # Shuffle the layers twice to get two different sets of shuffled layers\n",
    "    shuffled_layers_1 = random.sample(original_layers, len(original_layers))\n",
    "    shuffled_layers_2 = random.sample(original_layers, len(original_layers))\n",
    "\n",
    "    # Concatenate original layers into a single model\n",
    "    original_model = torch.nn.Sequential(*original_layers)\n",
    "\n",
    "    # Save the original model and its weights\n",
    "    torch.save(original_model, original_model_state_dict_path.replace('.pth', '_model2.pth'))\n",
    "\n",
    "    # Concatenate shuffled layers into a single model for both sets\n",
    "    shuffled_model_1 = torch.nn.Sequential(*shuffled_layers_1)\n",
    "    shuffled_model_2 = torch.nn.Sequential(*shuffled_layers_2)\n",
    "\n",
    "    # Save the shuffled models and their weights\n",
    "    torch.save(shuffled_model_1, shuffled_model_path1.replace('.pth', '_1.pth'))\n",
    "    torch.save(shuffled_model_2, shuffled_model_path2.replace('.pth', '_2.pth'))\n",
    "\n",
    "    # Store shuffled layers in an array\n",
    "    shuffled_layers_array = [shuffled_layers_1, shuffled_layers_2]\n",
    "\n",
    "    for i, (shuffled_layers, model_num) in enumerate(zip(shuffled_layers_array, [1, 2])):\n",
    "        for j, shuffled_layer in enumerate(shuffled_layers):\n",
    "            # Save entire models\n",
    "            torch.save(shuffled_layer, f'shuffled_model_{model_num}_layer_{j}.pth')\n",
    "\n",
    "            # Save model weights separately\n",
    "            torch.save(shuffled_layer.state_dict(), f'shuffled_model_{model_num}_layer_{j}_weights.pth')\n",
    "\n",
    "    return original_layers, shuffled_layers_array, original_model, [shuffled_model_1, shuffled_model_2]\n",
    "\n",
    "# Example usage\n",
    "original_model_state_dict_path = 'resnet_model2.pth'\n",
    "shuffled_model_path1 = 'shuffled_resnet_1_1.pth'\n",
    "shuffled_model_path2 = 'shuffled_resnet_2_1.pth'\n",
    "\n",
    "original_layers, shuffled_layers_array, original_model, shuffled_models = shuffle_and_save_layers(original_model_state_dict_path, shuffled_model_path1, shuffled_model_path2)\n",
    "\n",
    "# Print the original and shuffled layers along with their weights\n",
    "for i, (original_layer, shuffled_layers) in enumerate(zip(original_layers, shuffled_layers_array)):\n",
    "    print(f\"Layer {i} - Original Weights:\")\n",
    "    print(original_layer.state_dict())\n",
    "    for j, shuffled_layer in enumerate(shuffled_layers):\n",
    "        print(f\"\\nLayer {i} - Shuffled Weights (Model {j+1}):\")\n",
    "        print(shuffled_layer.state_dict())\n",
    "        print(\"\\n\" + \"-\"*50 + \"\\n\")\n",
    "\n",
    "# Print the original and shuffled models\n",
    "print(\"Original Model Weights:\")\n",
    "print(original_model.state_dict())\n",
    "print(\"\\n\" + \"-\"*50 + \"\\n\")\n",
    "for i, shuffled_model in enumerate(shuffled_models):\n",
    "    print(f\"Shuffled Model {i+1} Weights:\")\n",
    "    print(shuffled_model.state_dict())\n",
    "    print(\"\\n\" + \"-\"*50 + \"\\n\")"
   ]
  },
  {
   "cell_type": "markdown",
   "metadata": {
    "id": "FLW2eqqttuMN"
   },
   "source": [
    "### Testing Function"
   ]
  },
  {
   "cell_type": "code",
   "execution_count": null,
   "metadata": {
    "id": "gVgd8234ttfj"
   },
   "outputs": [],
   "source": [
    "def test(epoch, net, shuffled_model_paths):\n",
    "    net.eval()\n",
    "    test_loss = 0\n",
    "    correct = 0\n",
    "    total = 0\n",
    "\n",
    "    # Test using shuffled layers\n",
    "    use_original_layers = False\n",
    "    layers_path = shuffled_model_paths[1] if use_original_layers else shuffled_model_paths[0]\n",
    "    loaded_layers = torch.load(layers_path)\n",
    "\n",
    "    if isinstance(loaded_layers, dict):\n",
    "        loaded_state_dict = loaded_layers\n",
    "    else:\n",
    "        loaded_state_dict = loaded_layers.state_dict()\n",
    "\n",
    "    for param_tensor in net.state_dict():\n",
    "        if param_tensor in loaded_state_dict:\n",
    "            net.state_dict()[param_tensor].copy_(loaded_state_dict[param_tensor])\n",
    "\n",
    "    with torch.no_grad():\n",
    "        for batch_idx, (inputs, targets) in enumerate(testloader):\n",
    "            inputs, targets = inputs.to(device), targets.to(device)\n",
    "\n",
    "            outputs = net(inputs)\n",
    "            loss = criterion(outputs, targets)\n",
    "\n",
    "            test_loss += loss.item()\n",
    "            _, predicted = outputs.max(1)\n",
    "            total += targets.size(0)\n",
    "            correct += predicted.eq(targets).sum().item()\n",
    "\n",
    "    acc_shuffled = 100 * correct / total\n",
    "\n",
    "    return test_loss / len(testloader), acc_shuffled"
   ]
  },
  {
   "cell_type": "code",
   "execution_count": null,
   "metadata": {},
   "outputs": [],
   "source": [
    "def calculate_loss_using_acc(model, criterion, dataloader, accuracy):\n",
    "    model.eval()\n",
    "    total_loss = 0\n",
    "    correct = 0\n",
    "    total = 0\n",
    "\n",
    "    with torch.no_grad():\n",
    "        for inputs, targets in dataloader:\n",
    "            inputs, targets = inputs.to(device), targets.to(device)\n",
    "\n",
    "            outputs = model(inputs)\n",
    "            loss = criterion(outputs, targets)\n",
    "\n",
    "            total_loss += loss.item()\n",
    "            _, predicted = outputs.max(1)\n",
    "            total += targets.size(0)\n",
    "            correct += predicted.eq(targets).sum().item()\n",
    "\n",
    "            # Stop when the desired accuracy is reached\n",
    "            if (correct / total) * 100 >= accuracy:\n",
    "                break\n",
    "\n",
    "    average_loss = total_loss / len(dataloader)\n",
    "    return average_loss"
   ]
  },
  {
   "cell_type": "code",
   "execution_count": null,
   "metadata": {
    "scrolled": true
   },
   "outputs": [],
   "source": [
    "train_losses = []\n",
    "test_losses_shuffled = []\n",
    "acc_shuffleds = []\n",
    "epochs = 3\n",
    "\n",
    "users = False  # Assuming this is a boolean indicating whether users are present or not\n",
    "known_users = 1  # Number of known users\n",
    "unknown_users = 2  # Number of unknown users\n",
    "\n",
    "# Paths for saving shuffled models\n",
    "shuffled_model_path1 = 'shuffled_resnet_1.pth'\n",
    "shuffled_model_path2 = 'shuffled_resnet_2.pth'\n",
    "\n",
    "for epoch in range(epochs):\n",
    "    train_loss = train(epoch, net)  # Assuming you have a train function\n",
    "    train_losses.append(train_loss)\n",
    "\n",
    "    # Save shuffled models for each permutation\n",
    "    for perm in itertools.permutations([1, 2]):\n",
    "        shuffle_and_save_layers(original_model_state_dict_path, shuffled_model_path1, shuffled_model_path2)\n",
    "\n",
    "        # Test using shuffled layers\n",
    "        test_loss_shuffled, acc_shuffled = test(epoch, net, [shuffled_model_path1, shuffled_model_path2])\n",
    "        print(f\"Epoch {epoch + 1}/{epochs}\")\n",
    "        print(f\"Train Loss: {train_loss}\")\n",
    "        print(f\"Test Loss using Shuffled Layers: {test_loss_shuffled}\")\n",
    "        test_losses_shuffled.append(test_loss_shuffled)\n",
    "        acc_shuffleds.append(acc_shuffled)\n",
    "\n",
    "    scheduler.step()\n",
    "\n",
    "if users and known_users >= 1:\n",
    "    # print('Original Accuracy : %d %%' % (acc))\n",
    "\n",
    "if not users and unknown_users >= 1:\n",
    "    print('Wrong Accuracies: ', acc_shuffleds)"
   ]
  }
 ],
 "metadata": {
  "accelerator": "GPU",
  "colab": {
   "collapsed_sections": [],
   "name": "FGSM and PDG attacks release version.ipynb",
   "provenance": [],
   "toc_visible": true
  },
  "kernelspec": {
   "display_name": "Python 3 (ipykernel)",
   "language": "python",
   "name": "python3"
  },
  "language_info": {
   "codemirror_mode": {
    "name": "ipython",
    "version": 3
   },
   "file_extension": ".py",
   "mimetype": "text/x-python",
   "name": "python",
   "nbconvert_exporter": "python",
   "pygments_lexer": "ipython3",
   "version": "3.11.4"
  }
 },
 "nbformat": 4,
 "nbformat_minor": 4
}
